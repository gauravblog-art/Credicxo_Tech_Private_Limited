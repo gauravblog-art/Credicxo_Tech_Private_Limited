{
  "nbformat": 4,
  "nbformat_minor": 0,
  "metadata": {
    "colab": {
      "name": "data_extraction_in_python.ipynb",
      "provenance": [],
      "mount_file_id": "1baGRtW00KUmOyD-mUmTxa9jBZQjmy6pd",
      "authorship_tag": "ABX9TyMQKz4a/prjQFWbZc4Gsgo9",
      "include_colab_link": true
    },
    "kernelspec": {
      "name": "python3",
      "display_name": "Python 3"
    },
    "language_info": {
      "name": "python"
    }
  },
  "cells": [
    {
      "cell_type": "markdown",
      "metadata": {
        "id": "view-in-github",
        "colab_type": "text"
      },
      "source": [
        "<a href=\"https://colab.research.google.com/github/gauravblog-art/Credicxo_Tech_Private_Limited/blob/main/data_extraction_in_python.ipynb\" target=\"_parent\"><img src=\"https://colab.research.google.com/assets/colab-badge.svg\" alt=\"Open In Colab\"/></a>"
      ]
    },
    {
      "cell_type": "markdown",
      "source": [
        "# Gaurav Kumar Mishra\n",
        "\n",
        "#mail- gauravmishra892001@gmail.com\n",
        "\n",
        "#phone - 9955995957\n",
        "\n"
      ],
      "metadata": {
        "id": "EAfqYOnJ8GMI"
      }
    },
    {
      "cell_type": "code",
      "source": [
        "\"\"\"Coded by Gaurav Kumar Mishra\n",
        "    Email: gauravmishra892001@gmail.com\"\"\"\n",
        "\n",
        "# Importing required libraries\n",
        "\n",
        "import csv\n",
        "\n",
        "\n",
        "from selenium import webdriver\n",
        "import pandas as pd\n",
        "import time\n",
        "import numpy as np\n",
        "\n",
        "\n",
        "\n",
        "# Reading the given input excel data using pandas\n",
        "data=pd.read_csv('Amazon Scraping - Sheet1.csv')\n",
        "id=data['id']\n",
        "Asin=data['Asin']\n",
        "country=data['country']\n",
        "\n",
        "\n",
        "mydict=[]\n",
        "for i in range(0,130):\n",
        "    try:\n",
        "        url=\"https://www.amazon.\"+str(country[i])+\"/dp/\"+str(Asin[i])\n",
        "\n",
        "\n",
        "\n",
        "\n",
        "        # # Initializing selenium webdriver\n",
        "        driver = webdriver.Chrome(executable_path='C:/Users/acer/Documents/chromedriver/chromedriver.exe')\n",
        "\n",
        "        # url='https://www.amazon.de/dp/1060694'\n",
        "\n",
        "        driver.get(url)\n",
        "\n",
        "        title=driver.find_element_by_id('h').text\n",
        "        image=driver.find_element_by_id('d')\n",
        "        src = image.get_attribute('src')\n",
        "        product_dic=driver.find_element_by_id('j').text\n",
        "\n",
        "    \n",
        "\n",
        "        my = [title, src, product_dic]\n",
        "\n",
        "        fields = ['TITLE','IMAGE URL','PRODUCT_DIC']\n",
        "\n",
        "        myd = {}\n",
        "        for _ in range(len(fields)):\n",
        "            myd.update({fields[_]: my[_]})\n",
        "        mydict.append(myd)\n",
        "\n",
        "        \n",
        "        driver.close()\n",
        "\n",
        "\n",
        "    except:\n",
        "        print(\"error\")\n",
        "\n",
        "df=pd.DataFrame(mydict)\n",
        "\n",
        "df.to_csv('gaurav.csv')\n",
        "\n",
        "\n",
        "\n",
        "\n",
        "\n"
      ],
      "metadata": {
        "id": "wH_gPGcdffEB"
      },
      "execution_count": null,
      "outputs": []
    }
  ]
}